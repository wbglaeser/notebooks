{
 "cells": [
  {
   "cell_type": "code",
   "execution_count": 302,
   "metadata": {},
   "outputs": [],
   "source": [
    "import pandas as pd\n",
    "import numpy as np\n",
    "import os"
   ]
  },
  {
   "cell_type": "code",
   "execution_count": 303,
   "metadata": {},
   "outputs": [],
   "source": [
    "DATA_DIR = \"data/\"\n",
    "FILE_NAME = \"data.csv\"\n",
    "FINAL_DATA = \"rearranged_data.csv\""
   ]
  },
  {
   "cell_type": "code",
   "execution_count": 304,
   "metadata": {},
   "outputs": [],
   "source": [
    "# Load data\n",
    "df = pd.read_csv(os.path.join(DATA_DIR, FILE_NAME), delimiter=\";\")"
   ]
  },
  {
   "cell_type": "code",
   "execution_count": 305,
   "metadata": {},
   "outputs": [],
   "source": [
    "# function to copy serial\n",
    "def copy_serial(row):\n",
    "    if not pd.isnull(row[\"ZG04\"]):\n",
    "        row[\"SERIAL\"] = row[\"ZG04\"]\n",
    "    elif not pd.isnull(row[\"ZG05\"]):\n",
    "        row[\"SERIAL\"] = row[\"ZG05\"]\n",
    "    return row"
   ]
  },
  {
   "cell_type": "code",
   "execution_count": 306,
   "metadata": {},
   "outputs": [],
   "source": [
    "# move serial to serial from w01\n",
    "df = df.apply(lambda row: copy_serial(row), axis=1)"
   ]
  },
  {
   "cell_type": "code",
   "execution_count": 307,
   "metadata": {},
   "outputs": [],
   "source": [
    "# Drop lines where we have no serial number\n",
    "df = df[~pd.isnull(df[\"SERIAL\"])]"
   ]
  },
  {
   "cell_type": "code",
   "execution_count": 308,
   "metadata": {},
   "outputs": [],
   "source": [
    "# Function to extract group\n",
    "serial_group = dict()\n",
    "def extract_variable(row):\n",
    "    if not pd.isnull(row[\"ZG04\"]):\n",
    "        serial_group.update({row[\"SERIAL\"]:\"MS\"})\n",
    "    elif not pd.isnull(row[\"ZG05\"]):\n",
    "        serial_group.update({row[\"SERIAL\"]:\"AL\"})\n",
    "    \n",
    "def assign_variable(var):\n",
    "    return serial_group[var]"
   ]
  },
  {
   "cell_type": "code",
   "execution_count": 309,
   "metadata": {},
   "outputs": [
    {
     "data": {
      "text/plain": [
       "0       None\n",
       "1       None\n",
       "2       None\n",
       "3       None\n",
       "4       None\n",
       "        ... \n",
       "3747    None\n",
       "3748    None\n",
       "3749    None\n",
       "3750    None\n",
       "3751    None\n",
       "Length: 3717, dtype: object"
      ]
     },
     "execution_count": 309,
     "metadata": {},
     "output_type": "execute_result"
    }
   ],
   "source": [
    "# Extract group\n",
    "df.apply(lambda row: group_variable(row), axis=1)"
   ]
  },
  {
   "cell_type": "code",
   "execution_count": 310,
   "metadata": {},
   "outputs": [],
   "source": [
    "# Drop some unnecessary columns\n",
    "df.drop([\"MODE\", \"REF\", \"CASE\", \"FINISHED\", \"Q_VIEWER\", \"MAILSENT\", \"LASTPAGE\", \"MAXPAGE\", \"MISSING\", \"MISSREL\"], axis=1, inplace=True)"
   ]
  },
  {
   "cell_type": "code",
   "execution_count": 311,
   "metadata": {},
   "outputs": [],
   "source": [
    "# Find all cases that have completed all the stuff\n",
    "def collect_complete_cases():\n",
    "    complete_cases = []\n",
    "    for indiv in df[\"SERIAL\"].unique():\n",
    "        if df[df[\"SERIAL\"]== indiv].shape[0] == 12:\n",
    "            complete_cases.append(indiv)\n",
    "        \n",
    "df = df[df[\"SERIAL\"].isin(complete_cases)]"
   ]
  },
  {
   "cell_type": "code",
   "execution_count": 312,
   "metadata": {},
   "outputs": [],
   "source": [
    "value_vars_drop = ['SERIAL',\"QUESTNNR\",'STARTED','TIME001','TIME002','TIME003','TIME004','TIME005','TIME006','TIME007','TIME008',\n",
    " 'TIME009','TIME010','TIME011','TIME012','TIME013','TIME014','TIME015','TIME016','TIME017','TIME018',\n",
    " 'TIME019','TIME020','TIME021','TIME022','TIME023','TIME024','TIME025','TIME026','TIME027','TIME028','TIME029',\n",
    " 'TIME030','TIME031','TIME032','TIME033','TIME034','TIME035','TIME036','TIME_SUM','LASTDATA','TIME_RSI','DEG_TIME', \"ZG04\", \"ZG05\"]\n",
    "value_vars = [x for x in df.columns if x not in value_vars_drop]\n",
    "df = pd.melt(df, id_vars=[\"SERIAL\",\"QUESTNNR\"], value_vars=value_vars)"
   ]
  },
  {
   "cell_type": "code",
   "execution_count": 313,
   "metadata": {},
   "outputs": [],
   "source": [
    "# Drop variables without anser\n",
    "df = df[~pd.isnull(df[\"value\"])]"
   ]
  },
  {
   "cell_type": "code",
   "execution_count": 314,
   "metadata": {},
   "outputs": [],
   "source": [
    "# Add group variable\n",
    "df[\"GROUP\"] = df[\"SERIAL\"].apply(lambda val: serial_group[val])"
   ]
  },
  {
   "cell_type": "code",
   "execution_count": 315,
   "metadata": {},
   "outputs": [],
   "source": [
    "# Rearrange table\n",
    "df = df[[\"SERIAL\", \"GROUP\", \"QUESTNNR\", \"variable\", \"value\"]]"
   ]
  },
  {
   "cell_type": "code",
   "execution_count": 320,
   "metadata": {},
   "outputs": [],
   "source": [
    "# Store to new excel\n",
    "df.to_excel(os.path.join(DATA_DIR, FINAL_DATA), index=False)"
   ]
  }
 ],
 "metadata": {
  "kernelspec": {
   "display_name": "Python 2",
   "language": "python",
   "name": "python2"
  },
  "language_info": {
   "codemirror_mode": {
    "name": "ipython",
    "version": 2
   },
   "file_extension": ".py",
   "mimetype": "text/x-python",
   "name": "python",
   "nbconvert_exporter": "python",
   "pygments_lexer": "ipython2",
   "version": "2.7.16"
  }
 },
 "nbformat": 4,
 "nbformat_minor": 2
}
