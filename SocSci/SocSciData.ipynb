{
 "cells": [
  {
   "cell_type": "code",
   "execution_count": 1,
   "metadata": {},
   "outputs": [],
   "source": [
    "import pandas as pd\n",
    "import numpy as np\n",
    "import os\n",
    "import json"
   ]
  },
  {
   "cell_type": "code",
   "execution_count": 2,
   "metadata": {},
   "outputs": [],
   "source": [
    "DATA_DIR = \"data/\"\n",
    "FILE_NAME = \"data.csv\"\n",
    "FINAL_DATA = \"rearranged_data_.xlsx\"\n",
    "DATA_SPECS = \"data_specs.json\""
   ]
  },
  {
   "cell_type": "code",
   "execution_count": 3,
   "metadata": {},
   "outputs": [],
   "source": [
    "with open(DATA_SPECS, 'r') as f:\n",
    "    DATA_SPECS_DICT = json.load(f)"
   ]
  },
  {
   "cell_type": "code",
   "execution_count": 4,
   "metadata": {},
   "outputs": [
    {
     "name": "stderr",
     "output_type": "stream",
     "text": [
      "/Users/ben.glaeser/.venvs/ir/lib/python3.7/site-packages/IPython/core/interactiveshell.py:3058: DtypeWarning: Columns (12) have mixed types. Specify dtype option on import or set low_memory=False.\n",
      "  interactivity=interactivity, compiler=compiler, result=result)\n"
     ]
    }
   ],
   "source": [
    "# Load data\n",
    "df = pd.read_csv(os.path.join(DATA_DIR, FILE_NAME), delimiter=\";\")"
   ]
  },
  {
   "cell_type": "code",
   "execution_count": 5,
   "metadata": {},
   "outputs": [],
   "source": [
    "# function to copy serial\n",
    "def copy_serial(row):\n",
    "    if not pd.isnull(row[\"ZG04\"]):\n",
    "        row[\"SERIAL\"] = row[\"ZG04\"]\n",
    "    elif not pd.isnull(row[\"ZG05\"]):\n",
    "        row[\"SERIAL\"] = row[\"ZG05\"]\n",
    "    return row"
   ]
  },
  {
   "cell_type": "code",
   "execution_count": 6,
   "metadata": {},
   "outputs": [],
   "source": [
    "# move serial to serial from w01\n",
    "df = df.apply(lambda row: copy_serial(row), axis=1)"
   ]
  },
  {
   "cell_type": "code",
   "execution_count": 7,
   "metadata": {},
   "outputs": [],
   "source": [
    "# Drop lines where we have no serial number\n",
    "df = df[~pd.isnull(df[\"SERIAL\"])]"
   ]
  },
  {
   "cell_type": "code",
   "execution_count": 8,
   "metadata": {},
   "outputs": [],
   "source": [
    "# Function to extract group\n",
    "serial_group = dict()\n",
    "def extract_variable(row):\n",
    "    if not pd.isnull(row[\"ZG04\"]):\n",
    "        serial_group.update({row[\"SERIAL\"]:\"MS\"})\n",
    "    elif not pd.isnull(row[\"ZG05\"]):\n",
    "        serial_group.update({row[\"SERIAL\"]:\"AL\"})\n",
    "    \n",
    "def assign_variable(var):\n",
    "    return serial_group[var]"
   ]
  },
  {
   "cell_type": "code",
   "execution_count": 9,
   "metadata": {},
   "outputs": [],
   "source": [
    "%%capture\n",
    "# Extract group\n",
    "df.apply(lambda row: extract_variable(row), axis=1)"
   ]
  },
  {
   "cell_type": "code",
   "execution_count": 10,
   "metadata": {},
   "outputs": [],
   "source": [
    "# Drop some unnecessary columns\n",
    "df.drop(DATA_SPECS_DICT[\"drop_vars\"], axis=1, inplace=True)"
   ]
  },
  {
   "cell_type": "code",
   "execution_count": 12,
   "metadata": {},
   "outputs": [],
   "source": [
    "# Find all cases that have completed all the stuff\n",
    "def collect_complete_cases():\n",
    "    complete_cases = []\n",
    "    for indiv in df[\"SERIAL\"].unique():\n",
    "        df_indiv = df[df[\"SERIAL\"]== indiv]\n",
    "        if df_indiv.shape[0] > 9:\n",
    "            questionnaires = df_indiv[\"QUESTNNR\"].values\n",
    "            if (\"MS_10\" in questionnaires or \"Altern10\" in questionnaires) and \"A2\" in questionnaires and \"wi01\" in questionnaires:\n",
    "                complete_cases.append(indiv)\n",
    "    return complete_cases\n",
    "\n",
    "complete_cases = collect_complete_cases()\n",
    "df = df[df[\"SERIAL\"].isin(complete_cases)]"
   ]
  },
  {
   "cell_type": "code",
   "execution_count": 13,
   "metadata": {},
   "outputs": [],
   "source": [
    "value_vars_drop = ['SERIAL',\"QUESTNNR\"]\n",
    "value_vars = [x for x in df.columns if x not in value_vars_drop]\n",
    "df = pd.melt(df, id_vars=[\"SERIAL\",\"QUESTNNR\"], value_vars=value_vars)"
   ]
  },
  {
   "cell_type": "code",
   "execution_count": 14,
   "metadata": {},
   "outputs": [],
   "source": [
    "# Drop variables without anser\n",
    "df = df[~pd.isnull(df[\"value\"])]"
   ]
  },
  {
   "cell_type": "code",
   "execution_count": 15,
   "metadata": {},
   "outputs": [],
   "source": [
    "# Add group variable\n",
    "df[\"GROUP\"] = df[\"SERIAL\"].apply(lambda val: serial_group[val])"
   ]
  },
  {
   "cell_type": "code",
   "execution_count": 16,
   "metadata": {},
   "outputs": [],
   "source": [
    "# Rearrange table\n",
    "df = df[[\"SERIAL\", \"GROUP\", \"QUESTNNR\", \"variable\", \"value\"]]"
   ]
  },
  {
   "cell_type": "code",
   "execution_count": 18,
   "metadata": {},
   "outputs": [],
   "source": [
    "# Store to new excel\n",
    "df.to_excel(os.path.join(DATA_DIR, FINAL_DATA), index=False)"
   ]
  },
  {
   "cell_type": "code",
   "execution_count": 17,
   "metadata": {},
   "outputs": [
    {
     "data": {
      "text/plain": [
       "207"
      ]
     },
     "execution_count": 17,
     "metadata": {},
     "output_type": "execute_result"
    }
   ],
   "source": [
    "len(df['SERIAL'].unique())"
   ]
  },
  {
   "cell_type": "code",
   "execution_count": null,
   "metadata": {},
   "outputs": [],
   "source": []
  }
 ],
 "metadata": {
  "kernelspec": {
   "display_name": "Python 2",
   "language": "python",
   "name": "python2"
  },
  "language_info": {
   "codemirror_mode": {
    "name": "ipython",
    "version": 3
   },
   "file_extension": ".py",
   "mimetype": "text/x-python",
   "name": "python",
   "nbconvert_exporter": "python",
   "pygments_lexer": "ipython3",
   "version": "3.7.3"
  }
 },
 "nbformat": 4,
 "nbformat_minor": 2
}
