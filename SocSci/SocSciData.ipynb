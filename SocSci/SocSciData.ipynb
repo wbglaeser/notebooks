{
 "cells": [
  {
   "cell_type": "code",
   "execution_count": 1,
   "metadata": {},
   "outputs": [],
   "source": [
    "import pandas as pd\n",
    "import numpy as np\n",
    "import os\n",
    "import json"
   ]
  },
  {
   "cell_type": "code",
   "execution_count": 2,
   "metadata": {},
   "outputs": [],
   "source": [
    "DATA_DIR = \"data/\"\n",
    "FILE_NAME = \"data.csv\"\n",
    "FINAL_DATA = \"rearranged_data.xlsx\"\n",
    "DATA_SPECS = \"data_specs.json\""
   ]
  },
  {
   "cell_type": "code",
   "execution_count": 3,
   "metadata": {},
   "outputs": [],
   "source": [
    "with open(DATA_SPECS, 'r') as f:\n",
    "    DATA_SPECS_DICT = json.load(f)"
   ]
  },
  {
   "cell_type": "code",
   "execution_count": 4,
   "metadata": {},
   "outputs": [
    {
     "name": "stderr",
     "output_type": "stream",
     "text": [
      "/Users/ben.glaeser/.venvs/ir/lib/python3.7/site-packages/IPython/core/interactiveshell.py:3058: DtypeWarning: Columns (12) have mixed types. Specify dtype option on import or set low_memory=False.\n",
      "  interactivity=interactivity, compiler=compiler, result=result)\n"
     ]
    }
   ],
   "source": [
    "# Load data\n",
    "df = pd.read_csv(os.path.join(DATA_DIR, FILE_NAME), delimiter=\";\")"
   ]
  },
  {
   "cell_type": "code",
   "execution_count": 5,
   "metadata": {},
   "outputs": [],
   "source": [
    "# function to copy serial\n",
    "def copy_serial(row):\n",
    "    if not pd.isnull(row[\"ZG04\"]):\n",
    "        row[\"SERIAL\"] = row[\"ZG04\"]\n",
    "    elif not pd.isnull(row[\"ZG05\"]):\n",
    "        row[\"SERIAL\"] = row[\"ZG05\"]\n",
    "    return row"
   ]
  },
  {
   "cell_type": "code",
   "execution_count": 6,
   "metadata": {},
   "outputs": [],
   "source": [
    "# move serial to serial from w01\n",
    "df = df.apply(lambda row: copy_serial(row), axis=1)"
   ]
  },
  {
   "cell_type": "code",
   "execution_count": 7,
   "metadata": {},
   "outputs": [],
   "source": [
    "# Drop lines where we have no serial number\n",
    "df = df[~pd.isnull(df[\"SERIAL\"])]"
   ]
  },
  {
   "cell_type": "code",
   "execution_count": 8,
   "metadata": {},
   "outputs": [],
   "source": [
    "# Function to extract group\n",
    "serial_group = dict()\n",
    "def extract_variable(row):\n",
    "    if not pd.isnull(row[\"ZG04\"]):\n",
    "        serial_group.update({row[\"SERIAL\"]:\"MS\"})\n",
    "    elif not pd.isnull(row[\"ZG05\"]):\n",
    "        serial_group.update({row[\"SERIAL\"]:\"AL\"})"
   ]
  },
  {
   "cell_type": "code",
   "execution_count": 9,
   "metadata": {},
   "outputs": [],
   "source": [
    "%%capture\n",
    "# Extract group\n",
    "df.apply(lambda row: extract_variable(row), axis=1)"
   ]
  },
  {
   "cell_type": "code",
   "execution_count": 10,
   "metadata": {},
   "outputs": [],
   "source": [
    "# Drop some unnecessary columns\n",
    "df.drop(DATA_SPECS_DICT[\"drop_vars\"], axis=1, inplace=True)"
   ]
  },
  {
   "cell_type": "code",
   "execution_count": 11,
   "metadata": {},
   "outputs": [],
   "source": [
    "# Find all cases that have completed all the stuff\n",
    "def collect_complete_cases():\n",
    "    complete_cases = []\n",
    "    for indiv in df[\"SERIAL\"].unique():\n",
    "        df_indiv = df[df[\"SERIAL\"]== indiv]\n",
    "        if df_indiv.shape[0] > 9:\n",
    "            questionnaires = df_indiv[\"QUESTNNR\"].values\n",
    "            if (\"MS_10\" in questionnaires or \"Altern10\" in questionnaires) and \"A2\" in questionnaires and \"wi01\" in questionnaires:\n",
    "                complete_cases.append(indiv)\n",
    "    return complete_cases\n",
    "\n",
    "complete_cases = collect_complete_cases()\n",
    "df = df[df[\"SERIAL\"].isin(complete_cases)]"
   ]
  },
  {
   "cell_type": "code",
   "execution_count": 12,
   "metadata": {},
   "outputs": [],
   "source": [
    "value_vars_drop = ['SERIAL',\"QUESTNNR\"]\n",
    "value_vars = [x for x in df.columns if x not in value_vars_drop]\n",
    "df = pd.melt(df, id_vars=[\"SERIAL\",\"QUESTNNR\"], value_vars=value_vars)"
   ]
  },
  {
   "cell_type": "code",
   "execution_count": 13,
   "metadata": {},
   "outputs": [],
   "source": [
    "# Drop variables without anser\n",
    "df = df[~pd.isnull(df[\"value\"])]"
   ]
  },
  {
   "cell_type": "code",
   "execution_count": 14,
   "metadata": {},
   "outputs": [],
   "source": [
    "# Add group variable\n",
    "df[\"GROUP\"] = df[\"SERIAL\"].apply(lambda val: serial_group[val])"
   ]
  },
  {
   "cell_type": "code",
   "execution_count": 15,
   "metadata": {},
   "outputs": [],
   "source": [
    "# Rearrange table\n",
    "df = df[[\"SERIAL\", \"GROUP\", \"QUESTNNR\", \"variable\", \"value\"]]"
   ]
  },
  {
   "cell_type": "code",
   "execution_count": 17,
   "metadata": {},
   "outputs": [],
   "source": [
    "# Store to new excel\n",
    "df.to_excel(os.path.join(DATA_DIR, FINAL_DATA), index=False)"
   ]
  },
  {
   "cell_type": "code",
   "execution_count": 16,
   "metadata": {},
   "outputs": [
    {
     "data": {
      "text/plain": [
       "4YVK3TVP56    12\n",
       "X8MWUXUUV9    12\n",
       "7C5MWUEWVU    12\n",
       "YR9U3RQQFK    12\n",
       "CE2CQ4676P    12\n",
       "95WDLQHH5X    12\n",
       "66XVE74VSZ    12\n",
       "ZFZGH15H3R    12\n",
       "Y54LCLTAB1    12\n",
       "MK2NX77GP2    12\n",
       "4HHS5UVCQX    12\n",
       "KR8GDNPVQV    12\n",
       "VGLSKZHF76    12\n",
       "HGQ5AY46N4    12\n",
       "NZPC4NZA87    12\n",
       "YQVLR33DTR    12\n",
       "81BK12ZEZM    12\n",
       "VDFEG5D3RY    12\n",
       "S6HZHHP2T7    12\n",
       "E2EZXNPQS7    12\n",
       "YVGY71FZB8    12\n",
       "ZPRF8XRA73    12\n",
       "RV3WBGXP3U    12\n",
       "6R9BZS8RTL    12\n",
       "DUGRETE4D2    12\n",
       "4BC5A2C2ND    12\n",
       "UW2R67HH3N    12\n",
       "31XD4UFDA7    12\n",
       "NMFG4N6PZA    12\n",
       "NUCWLGXQNG    12\n",
       "              ..\n",
       "1WTHKTGXN5     1\n",
       "ZFVAL2V7HR     1\n",
       "V7LLTQ8W96     1\n",
       "PX8NZU9UC7     1\n",
       "Q3M46CYUPR     1\n",
       "FRDLHF4EPW     1\n",
       "MEDEMHG7CS     1\n",
       "S7F7X99QAC     1\n",
       "WWB2XAB2C3     1\n",
       "HFNQ34EXCC     1\n",
       "V9H4SSHWLT     1\n",
       "LMFVNVTQR3     1\n",
       "VMB22VYKES     1\n",
       "RT49GDWTG3     1\n",
       "E3T8YF9M15     1\n",
       "U5QAUR9CPP     1\n",
       "K6L3H4C8NN     1\n",
       "DCCPX86A12     1\n",
       "PW75ZB6C86     1\n",
       "84PD6YP9RN     1\n",
       "SY4RXBK75B     1\n",
       "LTNDN5U27X     1\n",
       "R9KGU85HT3     1\n",
       "KDC54ELWPR     1\n",
       "A3QUY36GEX     1\n",
       "DHQ4B6Q3CL     1\n",
       "23H5AQF5NB     1\n",
       "ZACR1PGQ49     1\n",
       "5Q86YTQTQ5     1\n",
       "H6A8Q5N3LF     1\n",
       "Name: SERIAL, Length: 452, dtype: int64"
      ]
     },
     "execution_count": 16,
     "metadata": {},
     "output_type": "execute_result"
    }
   ],
   "source": [
    "df[\"SERIAL\"].value_counts()"
   ]
  },
  {
   "cell_type": "code",
   "execution_count": 12,
   "metadata": {},
   "outputs": [
    {
     "data": {
      "text/html": [
       "<div>\n",
       "<style scoped>\n",
       "    .dataframe tbody tr th:only-of-type {\n",
       "        vertical-align: middle;\n",
       "    }\n",
       "\n",
       "    .dataframe tbody tr th {\n",
       "        vertical-align: top;\n",
       "    }\n",
       "\n",
       "    .dataframe thead th {\n",
       "        text-align: right;\n",
       "    }\n",
       "</style>\n",
       "<table border=\"1\" class=\"dataframe\">\n",
       "  <thead>\n",
       "    <tr style=\"text-align: right;\">\n",
       "      <th></th>\n",
       "      <th>SERIAL</th>\n",
       "      <th>QUESTNNR</th>\n",
       "      <th>SD01</th>\n",
       "      <th>SD02_01</th>\n",
       "      <th>SD19</th>\n",
       "      <th>SD20</th>\n",
       "      <th>SD21</th>\n",
       "      <th>SD10</th>\n",
       "      <th>SD10_09</th>\n",
       "      <th>SD22</th>\n",
       "      <th>...</th>\n",
       "      <th>HA21_11</th>\n",
       "      <th>HA21_12</th>\n",
       "      <th>HA21_13</th>\n",
       "      <th>HA21_14</th>\n",
       "      <th>HA21_15</th>\n",
       "      <th>HA21_16</th>\n",
       "      <th>HA21_17</th>\n",
       "      <th>HA21_18</th>\n",
       "      <th>ZG01_CP</th>\n",
       "      <th>ZG01</th>\n",
       "    </tr>\n",
       "  </thead>\n",
       "  <tbody>\n",
       "    <tr>\n",
       "      <th>0</th>\n",
       "      <td>DA1A1CDBFR</td>\n",
       "      <td>wi01</td>\n",
       "      <td>2.0</td>\n",
       "      <td>29.0</td>\n",
       "      <td>2.0</td>\n",
       "      <td>1.0</td>\n",
       "      <td>5.0</td>\n",
       "      <td>4.0</td>\n",
       "      <td>NaN</td>\n",
       "      <td>2.0</td>\n",
       "      <td>...</td>\n",
       "      <td>NaN</td>\n",
       "      <td>NaN</td>\n",
       "      <td>NaN</td>\n",
       "      <td>NaN</td>\n",
       "      <td>NaN</td>\n",
       "      <td>NaN</td>\n",
       "      <td>NaN</td>\n",
       "      <td>NaN</td>\n",
       "      <td>0.0</td>\n",
       "      <td>2.0</td>\n",
       "    </tr>\n",
       "    <tr>\n",
       "      <th>1</th>\n",
       "      <td>DA1A1CDBFR</td>\n",
       "      <td>A2</td>\n",
       "      <td>NaN</td>\n",
       "      <td>NaN</td>\n",
       "      <td>NaN</td>\n",
       "      <td>NaN</td>\n",
       "      <td>NaN</td>\n",
       "      <td>NaN</td>\n",
       "      <td>NaN</td>\n",
       "      <td>NaN</td>\n",
       "      <td>...</td>\n",
       "      <td>2.0</td>\n",
       "      <td>2.0</td>\n",
       "      <td>2.0</td>\n",
       "      <td>3.0</td>\n",
       "      <td>3.0</td>\n",
       "      <td>3.0</td>\n",
       "      <td>3.0</td>\n",
       "      <td>3.0</td>\n",
       "      <td>NaN</td>\n",
       "      <td>NaN</td>\n",
       "    </tr>\n",
       "    <tr>\n",
       "      <th>2</th>\n",
       "      <td>K9E9XH4MVB</td>\n",
       "      <td>wi01</td>\n",
       "      <td>2.0</td>\n",
       "      <td>29.0</td>\n",
       "      <td>1.0</td>\n",
       "      <td>1.0</td>\n",
       "      <td>2.0</td>\n",
       "      <td>7.0</td>\n",
       "      <td>NaN</td>\n",
       "      <td>2.0</td>\n",
       "      <td>...</td>\n",
       "      <td>NaN</td>\n",
       "      <td>NaN</td>\n",
       "      <td>NaN</td>\n",
       "      <td>NaN</td>\n",
       "      <td>NaN</td>\n",
       "      <td>NaN</td>\n",
       "      <td>NaN</td>\n",
       "      <td>NaN</td>\n",
       "      <td>0.0</td>\n",
       "      <td>1.0</td>\n",
       "    </tr>\n",
       "    <tr>\n",
       "      <th>3</th>\n",
       "      <td>3FDC1GTMB9</td>\n",
       "      <td>wi01</td>\n",
       "      <td>2.0</td>\n",
       "      <td>29.0</td>\n",
       "      <td>1.0</td>\n",
       "      <td>1.0</td>\n",
       "      <td>2.0</td>\n",
       "      <td>8.0</td>\n",
       "      <td>NaN</td>\n",
       "      <td>2.0</td>\n",
       "      <td>...</td>\n",
       "      <td>NaN</td>\n",
       "      <td>NaN</td>\n",
       "      <td>NaN</td>\n",
       "      <td>NaN</td>\n",
       "      <td>NaN</td>\n",
       "      <td>NaN</td>\n",
       "      <td>NaN</td>\n",
       "      <td>NaN</td>\n",
       "      <td>1.0</td>\n",
       "      <td>2.0</td>\n",
       "    </tr>\n",
       "    <tr>\n",
       "      <th>4</th>\n",
       "      <td>K9E9XH4MVB</td>\n",
       "      <td>A2</td>\n",
       "      <td>NaN</td>\n",
       "      <td>NaN</td>\n",
       "      <td>NaN</td>\n",
       "      <td>NaN</td>\n",
       "      <td>NaN</td>\n",
       "      <td>NaN</td>\n",
       "      <td>NaN</td>\n",
       "      <td>NaN</td>\n",
       "      <td>...</td>\n",
       "      <td>4.0</td>\n",
       "      <td>4.0</td>\n",
       "      <td>3.0</td>\n",
       "      <td>3.0</td>\n",
       "      <td>3.0</td>\n",
       "      <td>4.0</td>\n",
       "      <td>4.0</td>\n",
       "      <td>3.0</td>\n",
       "      <td>NaN</td>\n",
       "      <td>NaN</td>\n",
       "    </tr>\n",
       "  </tbody>\n",
       "</table>\n",
       "<p>5 rows × 526 columns</p>\n",
       "</div>"
      ],
      "text/plain": [
       "       SERIAL QUESTNNR  SD01  SD02_01  SD19  SD20  SD21  SD10 SD10_09  SD22  \\\n",
       "0  DA1A1CDBFR     wi01   2.0     29.0   2.0   1.0   5.0   4.0     NaN   2.0   \n",
       "1  DA1A1CDBFR       A2   NaN      NaN   NaN   NaN   NaN   NaN     NaN   NaN   \n",
       "2  K9E9XH4MVB     wi01   2.0     29.0   1.0   1.0   2.0   7.0     NaN   2.0   \n",
       "3  3FDC1GTMB9     wi01   2.0     29.0   1.0   1.0   2.0   8.0     NaN   2.0   \n",
       "4  K9E9XH4MVB       A2   NaN      NaN   NaN   NaN   NaN   NaN     NaN   NaN   \n",
       "\n",
       "   ...  HA21_11  HA21_12  HA21_13  HA21_14  HA21_15  HA21_16  HA21_17  \\\n",
       "0  ...      NaN      NaN      NaN      NaN      NaN      NaN      NaN   \n",
       "1  ...      2.0      2.0      2.0      3.0      3.0      3.0      3.0   \n",
       "2  ...      NaN      NaN      NaN      NaN      NaN      NaN      NaN   \n",
       "3  ...      NaN      NaN      NaN      NaN      NaN      NaN      NaN   \n",
       "4  ...      4.0      4.0      3.0      3.0      3.0      4.0      4.0   \n",
       "\n",
       "   HA21_18  ZG01_CP  ZG01  \n",
       "0      NaN      0.0   2.0  \n",
       "1      3.0      NaN   NaN  \n",
       "2      NaN      0.0   1.0  \n",
       "3      NaN      1.0   2.0  \n",
       "4      3.0      NaN   NaN  \n",
       "\n",
       "[5 rows x 526 columns]"
      ]
     },
     "execution_count": 12,
     "metadata": {},
     "output_type": "execute_result"
    }
   ],
   "source": [
    "df.head()"
   ]
  },
  {
   "cell_type": "code",
   "execution_count": null,
   "metadata": {},
   "outputs": [],
   "source": []
  }
 ],
 "metadata": {
  "kernelspec": {
   "display_name": "Python 2",
   "language": "python",
   "name": "python2"
  },
  "language_info": {
   "codemirror_mode": {
    "name": "ipython",
    "version": 3
   },
   "file_extension": ".py",
   "mimetype": "text/x-python",
   "name": "python",
   "nbconvert_exporter": "python",
   "pygments_lexer": "ipython3",
   "version": "3.7.3"
  }
 },
 "nbformat": 4,
 "nbformat_minor": 2
}
